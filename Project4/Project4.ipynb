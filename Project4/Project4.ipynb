{
 "cells": [
  {
   "cell_type": "markdown",
   "metadata": {},
   "source": [
    "For the coupled oscillator problem given in Eq(3.1) of *J. Chem. Phys.* **68,** **608** (1978)\n",
    "\n",
    "$$ H = h_1(1) + h_2(2) + \\lambda (q_2^2 q_1 + \\eta q_1^3) $$\n",
    "\n",
    "where \n",
    "\n",
    "$$ h_i(i) = -\\frac{1}{2}\\frac{d^2}{dq_i^2} + \\frac{1}{2}\\omega_i^2q_i^2, i = 1,2 $$\n",
    "\n",
    "Use the parameters in FIG 1 of the paper, i.e.\n",
    "$\\omega_1^2$ =0.29575, $\\omega_2^2$=2.12581, $\\lambda=-0.1116$, $\\eta=0.08414$"
   ]
  },
  {
   "cell_type": "markdown",
   "metadata": {},
   "source": [
    "* Use VSCF to solve the ground state energy and wave function of this coupled oscillator problem. Use the product of the ground state of the two harmonic oscillators $h_1$ and $h_2$ as the initial guess.\n",
    "* Plot the VSCF solution with the harmotnic approximation solution, as shown in FIG 1 of the paper.\n",
    "\n",
    "Hint: \n",
    "For the VSCF procedure, you may use the numerical solution of PDE boundary problem as discussed in the class. You may also use some appropriate basis functions to solve VSCF if you prefer."
   ]
  },
  {
   "cell_type": "code",
   "execution_count": null,
   "metadata": {},
   "outputs": [],
   "source": []
  }
 ],
 "metadata": {
  "kernelspec": {
   "display_name": "Python [conda env:chem531] *",
   "language": "python",
   "name": "conda-env-chem531-py"
  },
  "language_info": {
   "codemirror_mode": {
    "name": "ipython",
    "version": 3
   },
   "file_extension": ".py",
   "mimetype": "text/x-python",
   "name": "python",
   "nbconvert_exporter": "python",
   "pygments_lexer": "ipython3",
   "version": "3.7.0"
  }
 },
 "nbformat": 4,
 "nbformat_minor": 4
}
